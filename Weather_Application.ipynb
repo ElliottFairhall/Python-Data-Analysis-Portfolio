{
  "nbformat": 4,
  "nbformat_minor": 0,
  "metadata": {
    "colab": {
      "provenance": [],
      "toc_visible": true
    },
    "kernelspec": {
      "name": "python3",
      "display_name": "Python 3"
    },
    "language_info": {
      "name": "python"
    }
  },
  "cells": [
    {
      "cell_type": "markdown",
      "source": [
        "# Weather Forecast Project"
      ],
      "metadata": {
        "id": "VIofgNHQdGxF"
      }
    },
    {
      "cell_type": "markdown",
      "source": [
        "Below is an example of a weather application I developed which uses functions and really taught me how to use data from HTML webpages. "
      ],
      "metadata": {
        "id": "z6NjAQ-ucdZd"
      }
    },
    {
      "cell_type": "markdown",
      "source": [
        "# Introduction"
      ],
      "metadata": {
        "id": "LTIBe9gtdUoy"
      }
    },
    {
      "cell_type": "markdown",
      "source": [
        "To prepare for this project, I needed to breakdown the tasks that need to be undertaken, what functions would need to be included to get information around weather, and consider what other information do I want to know, such as local time and what format for temperature. \n",
        "\n",
        "I need to consider UX or user experience, do I want the set a predefined location for weather to be provided? Do I want to provide a city, county, etc instead and how would this question be posed to the end user for the best experience possible.\n"
      ],
      "metadata": {
        "id": "jQ7jHQLRdr0M"
      }
    },
    {
      "cell_type": "markdown",
      "source": [
        "# Notebook Layout"
      ],
      "metadata": {
        "id": "6E_c5bXKo8Ea"
      }
    },
    {
      "cell_type": "markdown",
      "source": [
        "This notebook will be breakdown into the relevant steps, a step is the actions, logic and decision undertaken to make the python programme and provide an explanation of the code provided."
      ],
      "metadata": {
        "id": "BjGS6qUSochu"
      }
    },
    {
      "cell_type": "markdown",
      "source": [
        "# Import Functions"
      ],
      "metadata": {
        "id": "xJiNftQQpf9-"
      }
    },
    {
      "cell_type": "markdown",
      "source": [
        "Python functions that are not available within the standard Python libary must be imported in, for this application, I will be importing Beautiful Soup as well as Requests. "
      ],
      "metadata": {
        "id": "mYu3-S_4pllV"
      }
    },
    {
      "cell_type": "code",
      "source": [
        "from bs4 import BeautifulSoup\n"
      ],
      "metadata": {
        "id": "pkF9mnK9cc-j"
      },
      "execution_count": null,
      "outputs": []
    },
    {
      "cell_type": "markdown",
      "source": [
        "We use BeautifulSoup libary to scrape information from webpages quickly and is a package provided by bs4 which can be see from the 'from' statement before the 'import' statement. "
      ],
      "metadata": {
        "id": "BNm92YFjqOYW"
      }
    },
    {
      "cell_type": "code",
      "source": [
        "import requests"
      ],
      "metadata": {
        "id": "6LwQT9_DqIZZ"
      },
      "execution_count": null,
      "outputs": []
    },
    {
      "cell_type": "markdown",
      "source": [
        "Requests is used to interact with webservices and helps integrate Python. "
      ],
      "metadata": {
        "id": "0MRxA0pNqQGJ"
      }
    },
    {
      "cell_type": "markdown",
      "source": [
        "# Preparation"
      ],
      "metadata": {
        "id": "23OoM0SCrpam"
      }
    },
    {
      "cell_type": "markdown",
      "source": [
        "As with all applications and work undertaken within a development/ code enviroment, there is a need to undertake some preparation. In the case of our project, preparation involves setting the peremeters related to the imported functions. "
      ],
      "metadata": {
        "id": "SKFQqa_QsZps"
      }
    },
    {
      "cell_type": "code",
      "source": [
        "headers = {'User-Agent': 'Mozilla/5.0 (Windows NT 10.0; Win64; x64)     AppleWebKit/537.36 (KHTML, like Gecko) Chrome/58.0.3029.110 Safari/537.3'}"
      ],
      "metadata": {
        "id": "pMrKrYWSdE7Z"
      },
      "execution_count": null,
      "outputs": []
    },
    {
      "cell_type": "markdown",
      "source": [
        "The use of 'headers' is to provide provide a relavent server/ network identity, known as a User-Agent. "
      ],
      "metadata": {
        "id": "38jpKbVDrzye"
      }
    },
    {
      "cell_type": "code",
      "source": [
        "res=requests.get(f'https://www.google.com/search?q={city}&oq={city}&aqs=chrome.0. i635i39l2j0l4j46j690.6128j1j7&sourceid=chrome&ie=UTF-8',headers=headers)\n"
      ],
      "metadata": {
        "id": "a544JXpGsOlE"
      },
      "execution_count": null,
      "outputs": []
    },
    {
      "cell_type": "markdown",
      "source": [
        "We need to provide a location where infromation can be requested upone. You will notice the use of curly brakets to define {city} later within the application. We are also soting this information within 'res' which will be an object. "
      ],
      "metadata": {
        "id": "tpnbCaAasUxt"
      }
    },
    {
      "cell_type": "markdown",
      "source": [
        "# Defining the Function"
      ],
      "metadata": {
        "id": "vJVf170RqSQz"
      }
    },
    {
      "cell_type": "markdown",
      "source": [
        "Within this section we will be looking to detail the function, ensure that we 'get' the required information such as City, Time, Location and ensure that we define the need for BeautifulSoup to conduct [HTML parsing](https://beautiful-soup-4.readthedocs.io/en/latest/index.html?highlight=html.parser#you-need-a-parser). "
      ],
      "metadata": {
        "id": "LoRHRUXJqTPO"
      }
    },
    {
      "cell_type": "code",
      "source": [
        "soup = BeautifulSoup(res.text,'html.parser')  \n"
      ],
      "metadata": {
        "id": "8oKmS1-lsJL0"
      },
      "execution_count": null,
      "outputs": []
    },
    {
      "cell_type": "markdown",
      "source": [
        "The above ensures that BeautifulSoup can navigate to our website, extract the information through 'html.parser' and store this information as an object within 'soup'. "
      ],
      "metadata": {
        "id": "G2bbzbCks5TH"
      }
    },
    {
      "cell_type": "code",
      "source": [
        "location =  soup.select('#wob_loc')[0].getText().strip()\n",
        "time =  soup.select('#wob_dts')[0].getText().strip()\n",
        "info = soup.select('#wob_dc')[0].getText().strip()\n",
        "weather = soup.select('#wob_tm')[0].getText().strip()"
      ],
      "metadata": {
        "id": "pyD6XdzBs48N"
      },
      "execution_count": null,
      "outputs": []
    },
    {
      "cell_type": "markdown",
      "source": [
        "The above stated what relevant information we want to collect such as location, time, information and the actual weather. We also use the .getText() to complete this element but also .strip() to ensure that extra spaces are removed. "
      ],
      "metadata": {
        "id": "ACQSY3EAs6Uk"
      }
    },
    {
      "cell_type": "markdown",
      "source": [
        "# Inputs and Interactivity"
      ],
      "metadata": {
        "id": "CjgyivmttQbK"
      }
    },
    {
      "cell_type": "markdown",
      "source": [
        "As explained in the [Introduction](https://colab.research.google.com/drive/17SsQAkCgV7Vm8xUETPBGvWO3v2HHuNFe#scrollTo=LTIBe9gtdUoy), I would like to consider input and interactivity. I want to ensure that people are able to enter what ever city name they wish to find the relevant information they are requesting.  "
      ],
      "metadata": {
        "id": "0HIa5l4ytb0T"
      }
    },
    {
      "cell_type": "code",
      "source": [
        "print(\"enter the city name\")\n",
        "city=input()\n",
        "city=city+\" weather\"\n",
        "weather(city)"
      ],
      "metadata": {
        "id": "4keOAcH_tdGm"
      },
      "execution_count": null,
      "outputs": []
    },
    {
      "cell_type": "markdown",
      "source": [
        "The above provides the user with a print() statement which explicity asks for their cities name, but also ensue that the city stated is stored as an input() which will be used with BeautifulSoup and Requests to get the relevant information required. There is also the use of concatenation to ensure that the search undertaken looks for weather related to that given city. "
      ],
      "metadata": {
        "id": "Vjng9lxAtdts"
      }
    },
    {
      "cell_type": "markdown",
      "source": [
        "# Print Statement"
      ],
      "metadata": {
        "id": "dbTXW45ntFJg"
      }
    },
    {
      "cell_type": "markdown",
      "source": [
        "The importance of a print() statement at this stage is very important, without a print statement providing us with the results from the scrape this would not be able to be seen by an end user. We need to consider print() statements for the respective lcation, time as well as tempreature. "
      ],
      "metadata": {
        "id": "XpjtNuOltADf"
      }
    },
    {
      "cell_type": "code",
      "source": [
        "    print(location)\n"
      ],
      "metadata": {
        "id": "hsctJEcNs0u4"
      },
      "execution_count": null,
      "outputs": []
    },
    {
      "cell_type": "markdown",
      "source": [
        "The above prints the location related to the city search undertaken which has been collected by the function using BeautifulSoup and Requests. "
      ],
      "metadata": {
        "id": "SRXnb-w8tpDQ"
      }
    },
    {
      "cell_type": "code",
      "source": [],
      "metadata": {
        "id": "urU-DVIUWSiy"
      },
      "execution_count": null,
      "outputs": []
    },
    {
      "cell_type": "code",
      "source": [
        "    print(time)\n"
      ],
      "metadata": {
        "id": "lqXoagJXtpup"
      },
      "execution_count": null,
      "outputs": []
    },
    {
      "cell_type": "markdown",
      "source": [
        "The above prints time related to the city requested, collected by the function. "
      ],
      "metadata": {
        "id": "prxVsiEktqQ9"
      }
    },
    {
      "cell_type": "code",
      "source": [
        "    print(info)\n"
      ],
      "metadata": {
        "id": "P0mIp9Sltq4D"
      },
      "execution_count": null,
      "outputs": []
    },
    {
      "cell_type": "markdown",
      "source": [
        "The above prints information collected by the function. "
      ],
      "metadata": {
        "id": "n5g9jxf5trM6"
      }
    },
    {
      "cell_type": "code",
      "source": [
        "    print(weather+\"°C\")"
      ],
      "metadata": {
        "id": "lsbcHGo-trr-"
      },
      "execution_count": null,
      "outputs": []
    },
    {
      "cell_type": "markdown",
      "source": [
        "The above prints the weather collected by the function and concatenates the measurement at the end of the collect value, in this case celseus. "
      ],
      "metadata": {
        "id": "95QqFp8-schg"
      }
    },
    {
      "cell_type": "markdown",
      "source": [
        "# Outcome & Lessions Learnt"
      ],
      "metadata": {
        "id": "natbK0-atv1o"
      }
    },
    {
      "cell_type": "markdown",
      "source": [],
      "metadata": {
        "id": "KosOM0-Vt3nl"
      }
    },
    {
      "cell_type": "markdown",
      "source": [
        "# Conclusions & Next Steps"
      ],
      "metadata": {
        "id": "M1Z_Q-6vt6ad"
      }
    },
    {
      "cell_type": "markdown",
      "source": [],
      "metadata": {
        "id": "qBl87FyYuADD"
      }
    }
  ]
}