{
  "nbformat": 4,
  "nbformat_minor": 0,
  "metadata": {
    "colab": {
      "provenance": [],
      "toc_visible": true,
      "collapsed_sections": [],
      "authorship_tag": "ABX9TyOosLCZHfhxWhc+DZua5zsB"
    },
    "kernelspec": {
      "name": "python3",
      "display_name": "Python 3"
    },
    "language_info": {
      "name": "python"
    }
  },
  "cells": [
    {
      "cell_type": "markdown",
      "source": [
        "# Weather Forecast Project"
      ],
      "metadata": {
        "id": "VIofgNHQdGxF"
      }
    },
    {
      "cell_type": "markdown",
      "source": [
        "Below is an example of a weather application I developed which uses functions and really taught me how to use data from HTML webpages. "
      ],
      "metadata": {
        "id": "z6NjAQ-ucdZd"
      }
    },
    {
      "cell_type": "markdown",
      "source": [
        "# Introduction"
      ],
      "metadata": {
        "id": "LTIBe9gtdUoy"
      }
    },
    {
      "cell_type": "markdown",
      "source": [
        "To prepare for this project, I needed to breakdown the tasks that need to be undertaken, what functions would need to be included to get information around weather, and consider what other information do I want to know, such as local time and what format for temperature. \n",
        "\n",
        "I need to consider UX or user experience, do I want the set a predefined location for weather to be provided? Do I want to provide a city, county, etc instead and how would this question be posed to the end user for the best experience possible.\n"
      ],
      "metadata": {
        "id": "jQ7jHQLRdr0M"
      }
    },
    {
      "cell_type": "markdown",
      "source": [
        "# Notebook Layout"
      ],
      "metadata": {
        "id": "6E_c5bXKo8Ea"
      }
    },
    {
      "cell_type": "markdown",
      "source": [
        "This notebook will be breakdown into the relevant steps, a step is the actions, logic and decision undertaken to make the python programme and provide an explanation of the code provided."
      ],
      "metadata": {
        "id": "BjGS6qUSochu"
      }
    },
    {
      "cell_type": "markdown",
      "source": [
        "# Import Functions"
      ],
      "metadata": {
        "id": "xJiNftQQpf9-"
      }
    },
    {
      "cell_type": "markdown",
      "source": [
        "Python functions that are not available within the standard Python libary must be imported in, for this application, I will be importing Beautiful Soup as well as Requests. "
      ],
      "metadata": {
        "id": "mYu3-S_4pllV"
      }
    },
    {
      "cell_type": "code",
      "source": [
        "from bs4 import BeautifulSoup\n"
      ],
      "metadata": {
        "id": "pkF9mnK9cc-j"
      },
      "execution_count": null,
      "outputs": []
    },
    {
      "cell_type": "markdown",
      "source": [],
      "metadata": {
        "id": "BNm92YFjqOYW"
      }
    },
    {
      "cell_type": "code",
      "source": [
        "import requests"
      ],
      "metadata": {
        "id": "6LwQT9_DqIZZ"
      },
      "execution_count": null,
      "outputs": []
    },
    {
      "cell_type": "markdown",
      "source": [],
      "metadata": {
        "id": "0MRxA0pNqQGJ"
      }
    },
    {
      "cell_type": "markdown",
      "source": [
        "# Preparation"
      ],
      "metadata": {
        "id": "23OoM0SCrpam"
      }
    },
    {
      "cell_type": "code",
      "source": [
        "headers = {'User-Agent': 'Mozilla/5.0 (Windows NT 10.0; Win64; x64)     AppleWebKit/537.36 (KHTML, like Gecko) Chrome/58.0.3029.110 Safari/537.3'}"
      ],
      "metadata": {
        "id": "pMrKrYWSdE7Z"
      },
      "execution_count": null,
      "outputs": []
    },
    {
      "cell_type": "markdown",
      "source": [],
      "metadata": {
        "id": "38jpKbVDrzye"
      }
    },
    {
      "cell_type": "markdown",
      "source": [],
      "metadata": {
        "id": "SKFQqa_QsZps"
      }
    },
    {
      "cell_type": "code",
      "source": [
        "res=requests.get(f'https://www.google.com/search?q={city}&oq={city}&aqs=chrome.0. i635i39l2j0l4j46j690.6128j1j7&sourceid=chrome&ie=UTF-8',headers=headers)\n"
      ],
      "metadata": {
        "id": "a544JXpGsOlE"
      },
      "execution_count": null,
      "outputs": []
    },
    {
      "cell_type": "markdown",
      "source": [],
      "metadata": {
        "id": "tpnbCaAasUxt"
      }
    },
    {
      "cell_type": "markdown",
      "source": [
        "# Defining the Function"
      ],
      "metadata": {
        "id": "vJVf170RqSQz"
      }
    },
    {
      "cell_type": "markdown",
      "source": [],
      "metadata": {
        "id": "LoRHRUXJqTPO"
      }
    },
    {
      "cell_type": "code",
      "source": [
        "def weather(city):\n",
        "# Replaces the space with + operator\n",
        "city=city.replace(\" \",\"+\")\n",
        "#requests and get function to get the information from the URL provided\n",
        "res=requests.get(f'https://www.google.com/search?q={city}&oq={city}’\n",
        "                f'&aqs=chrome.0.35i39l2j0l4j46j69i60.6128j1j7&sourceid='\n",
        "                       f'chrome&ie=UTF-8',headers=headers)\n",
        "#searches the information from google\n",
        "    print(\"Searching in google......\\n\")\n",
        "#Navigates on that particular website ,extract and store the data in soup object\n",
        "    soup = BeautifulSoup(res.text,'html.parser')\n",
        "#gets the information of location \n",
        "    location = soup.select('#wob_loc')[0].getText().strip()\n",
        "#gets the information of time\n",
        "    time = soup.select('#wob_dts')[0].getText().strip()\n",
        "#gets the desired information\n",
        "    info = soup.select('#wob_dc')[0].getText().strip()\n",
        "\n"
      ],
      "metadata": {
        "id": "8oKmS1-lsJL0"
      },
      "execution_count": null,
      "outputs": []
    },
    {
      "cell_type": "markdown",
      "source": [],
      "metadata": {
        "id": "G2bbzbCks5TH"
      }
    },
    {
      "cell_type": "code",
      "source": [],
      "metadata": {
        "id": "pyD6XdzBs48N"
      },
      "execution_count": null,
      "outputs": []
    },
    {
      "cell_type": "markdown",
      "source": [],
      "metadata": {
        "id": "ACQSY3EAs6Uk"
      }
    },
    {
      "cell_type": "code",
      "source": [],
      "metadata": {
        "id": "42wyVo8Rs70G"
      },
      "execution_count": null,
      "outputs": []
    },
    {
      "cell_type": "markdown",
      "source": [],
      "metadata": {
        "id": "XUmJlobUs83_"
      }
    },
    {
      "cell_type": "code",
      "source": [],
      "metadata": {
        "id": "qJ23iq7Ks-Ck"
      },
      "execution_count": null,
      "outputs": []
    },
    {
      "cell_type": "markdown",
      "source": [
        "The below piece of code provides us the ability to get information related to the provided to information related to the city provided. "
      ],
      "metadata": {
        "id": "VtjdEjpSs-xh"
      }
    },
    {
      "cell_type": "code",
      "source": [
        "info = soup.select('#wob_dc')[0].getText().strip()"
      ],
      "metadata": {
        "id": "ia3h-8fNs_VV"
      },
      "execution_count": null,
      "outputs": []
    },
    {
      "cell_type": "markdown",
      "source": [
        "The below piece of code provides us with the actual weather information, using a select statement within Beautiful Soup and acquiring this information as a string (text). "
      ],
      "metadata": {
        "id": "twQ7O0C-tBGb"
      }
    },
    {
      "cell_type": "code",
      "source": [
        "weather = soup.select('#wob_tm')[0].getText().strip()"
      ],
      "metadata": {
        "id": "UyVqnzzwtAeM"
      },
      "execution_count": null,
      "outputs": []
    },
    {
      "cell_type": "markdown",
      "source": [
        "# Inputs and Interactivity"
      ],
      "metadata": {
        "id": "CjgyivmttQbK"
      }
    },
    {
      "cell_type": "markdown",
      "source": [],
      "metadata": {
        "id": "0HIa5l4ytb0T"
      }
    },
    {
      "cell_type": "code",
      "source": [],
      "metadata": {
        "id": "4keOAcH_tdGm"
      },
      "execution_count": null,
      "outputs": []
    },
    {
      "cell_type": "markdown",
      "source": [],
      "metadata": {
        "id": "Vjng9lxAtdts"
      }
    },
    {
      "cell_type": "code",
      "source": [],
      "metadata": {
        "id": "PdUQnb3xtiPJ"
      },
      "execution_count": null,
      "outputs": []
    },
    {
      "cell_type": "markdown",
      "source": [],
      "metadata": {
        "id": "g_ZpPWw8tjdV"
      }
    },
    {
      "cell_type": "code",
      "source": [],
      "metadata": {
        "id": "IalcXHgltjA_"
      },
      "execution_count": null,
      "outputs": []
    },
    {
      "cell_type": "markdown",
      "source": [],
      "metadata": {
        "id": "VNhREpKEtiqz"
      }
    },
    {
      "cell_type": "markdown",
      "source": [
        "# Print Statement"
      ],
      "metadata": {
        "id": "dbTXW45ntFJg"
      }
    },
    {
      "cell_type": "markdown",
      "source": [],
      "metadata": {
        "id": "XpjtNuOltADf"
      }
    },
    {
      "cell_type": "code",
      "source": [
        "#prints location\n",
        "    print(location)\n",
        "#prints time\n",
        "    print(time)\n",
        "#prints info \n",
        "    print(info)\n",
        "#prints the weather in degree celcius\n",
        "    print(weather+\"°C\")\n",
        "\n",
        "#enter the city name\n",
        "print(\"enter the city name\")\n",
        "city=input()\n",
        "\n",
        "#Concatenating the city name and weather \n",
        "city=city+\" weather\"\n",
        "\n",
        "#passing the city object to weather function\n",
        "weather(city"
      ],
      "metadata": {
        "id": "hsctJEcNs0u4"
      },
      "execution_count": null,
      "outputs": []
    },
    {
      "cell_type": "markdown",
      "source": [],
      "metadata": {
        "id": "SRXnb-w8tpDQ"
      }
    },
    {
      "cell_type": "code",
      "source": [],
      "metadata": {
        "id": "lqXoagJXtpup"
      },
      "execution_count": null,
      "outputs": []
    },
    {
      "cell_type": "markdown",
      "source": [],
      "metadata": {
        "id": "prxVsiEktqQ9"
      }
    },
    {
      "cell_type": "code",
      "source": [],
      "metadata": {
        "id": "P0mIp9Sltq4D"
      },
      "execution_count": null,
      "outputs": []
    },
    {
      "cell_type": "markdown",
      "source": [],
      "metadata": {
        "id": "n5g9jxf5trM6"
      }
    },
    {
      "cell_type": "code",
      "source": [],
      "metadata": {
        "id": "lsbcHGo-trr-"
      },
      "execution_count": null,
      "outputs": []
    },
    {
      "cell_type": "markdown",
      "source": [],
      "metadata": {
        "id": "95QqFp8-schg"
      }
    },
    {
      "cell_type": "markdown",
      "source": [
        "# Outcome & Lessions Learnt"
      ],
      "metadata": {
        "id": "natbK0-atv1o"
      }
    },
    {
      "cell_type": "markdown",
      "source": [],
      "metadata": {
        "id": "KosOM0-Vt3nl"
      }
    },
    {
      "cell_type": "markdown",
      "source": [
        "# Conclusions & Next Steps"
      ],
      "metadata": {
        "id": "M1Z_Q-6vt6ad"
      }
    },
    {
      "cell_type": "markdown",
      "source": [],
      "metadata": {
        "id": "qBl87FyYuADD"
      }
    }
  ]
}